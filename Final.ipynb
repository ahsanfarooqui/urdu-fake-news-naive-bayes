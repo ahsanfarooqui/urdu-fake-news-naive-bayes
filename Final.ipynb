{
 "cells": [
  {
   "cell_type": "markdown",
   "metadata": {},
   "source": [
    "# Importing Libraries"
   ]
  },
  {
   "cell_type": "code",
   "execution_count": 1,
   "metadata": {},
   "outputs": [],
   "source": [
    "import os\n",
    "import csv\n",
    "from collections import Counter\n",
    "import spacy\n",
    "import re\n",
    "import numpy as np\n",
    "import math\n",
    "import matplotlib.pyplot as plt\n",
    "import seaborn as sns"
   ]
  },
  {
   "cell_type": "markdown",
   "metadata": {},
   "source": [
    "# Creating Spacy Model for Tokenization"
   ]
  },
  {
   "cell_type": "code",
   "execution_count": 2,
   "metadata": {},
   "outputs": [],
   "source": [
    "nlp = spacy.blank('ur')"
   ]
  },
  {
   "cell_type": "markdown",
   "metadata": {},
   "source": [
    "## Importing Stop Words Text file"
   ]
  },
  {
   "cell_type": "code",
   "execution_count": 3,
   "metadata": {},
   "outputs": [],
   "source": [
    "with open(\"data/stopwords-ur.txt\",encoding=\"utf-8\") as f:\n",
    "    reader = csv.reader(f)\n",
    "    stop_words_data = list(reader)\n",
    "stop_words_data = [x for y in stop_words_data for x in y]"
   ]
  },
  {
   "cell_type": "markdown",
   "metadata": {},
   "source": [
    "# Pre-processing and fetching data"
   ]
  },
  {
   "cell_type": "markdown",
   "metadata": {},
   "source": [
    "Includes:\n",
    "* Creating list of characters that need to be ignored \n",
    "* Importing data directly from different files\n",
    "* Tokenizing each file and based on the selection of Boolean/Multinomial, append approproately to the main document\n",
    "* Returning the document along with words count"
   ]
  },
  {
   "cell_type": "code",
   "execution_count": 4,
   "metadata": {},
   "outputs": [],
   "source": [
    "ignore_characters_list = ['۔','-','۔','،','‘','’','؟',\"''\",\":\",'\"','”','“',\"'\",\"!\",\"(\",\")\",\"۔\",\"۔\"]"
   ]
  },
  {
   "cell_type": "code",
   "execution_count": 5,
   "metadata": {},
   "outputs": [],
   "source": [
    "def get_data(includeStopWords=1,isBoolean=0,data_type=\"Real\"):\n",
    "    all_files = os.listdir(\"data/Train/\"+data_type+\"/\") #Getting all files from the ./data/Train/Real folder\n",
    "    comb_data = []\n",
    "    for i in all_files:\n",
    "        with open(\"data/Train/\"+data_type+\"/\"+i,encoding=\"utf-8\") as f:\n",
    "            reader = csv.reader(f)\n",
    "            data = list(reader)\n",
    "            data = [x for y in data for x in y]\n",
    "            for k in ignore_characters_list:\n",
    "                for i,j in enumerate(data):\n",
    "                    if(k in j):\n",
    "                        data[i] = data[i].replace(k,\" \")\n",
    "            data = [nlp(x) for x in data]\n",
    "            data2 = [str(x).strip() for y in data for x in y]\n",
    "            if(includeStopWords==0):\n",
    "                data2 = [x for x in data2 if x not in stop_words_data]\n",
    "            if(isBoolean):\n",
    "                comb_data.append(list(set(data2)))\n",
    "            else:\n",
    "                comb_data.append(data2)\n",
    "\n",
    "    Document = [x for y in comb_data for x in y]\n",
    "    Document = [x for x in Document if x not in ignore_characters_list]\n",
    "    all_words = [x for x in Document if x != \"\"]\n",
    "    all_words = [x for x in all_words if x != \" \"]\n",
    "    words_count = Counter(all_words)\n",
    "    return all_words, words_count"
   ]
  },
  {
   "cell_type": "markdown",
   "metadata": {},
   "source": [
    "# Get Vocabulary : \n",
    "* Gets all words from real and fake words, appends them and removes duplicates"
   ]
  },
  {
   "cell_type": "code",
   "execution_count": 6,
   "metadata": {},
   "outputs": [],
   "source": [
    "def get_vocabulary(real_words,fake_words):\n",
    "    all_vocab = [fake_words,real_words]\n",
    "    all_vocab = [x.strip() for y in all_vocab for x in y]\n",
    "    return list(set(all_vocab))"
   ]
  },
  {
   "cell_type": "markdown",
   "metadata": {},
   "source": [
    "# Calculating Priors: \\$ P(c=real)  and P(c=fake) $"
   ]
  },
  {
   "cell_type": "code",
   "execution_count": 7,
   "metadata": {},
   "outputs": [],
   "source": [
    "def get_probabilities_class():\n",
    "    real_files = os.listdir(\"data/Train/Real\") #Getting all files from the ./data/Train/Real folder\n",
    "    fake_files = os.listdir(\"data/Train/Fake\") #Getting all files from the ./data/Train/Fake folder\n",
    "    \n",
    "    P_r = len(real_files)/(len(real_files)+len(fake_files))\n",
    "    P_f = len(real_files)/(len(real_files)+len(fake_files))\n",
    "    return P_r,P_f"
   ]
  },
  {
   "cell_type": "markdown",
   "metadata": {},
   "source": [
    "# Calculating Likelihood   $P(t|c)$"
   ]
  },
  {
   "cell_type": "code",
   "execution_count": 8,
   "metadata": {},
   "outputs": [],
   "source": [
    "def cond_probab(words,words_freq,all_vocab):\n",
    "    probab = {}\n",
    "    n = len(words)\n",
    "    v = len(all_vocab)    \n",
    "\n",
    "    for i in all_vocab:\n",
    "        try:\n",
    "            nk= words_freq[i]\n",
    "        except:\n",
    "            nk = 0\n",
    "            print(\"else_triggered\")\n",
    "        probab[i] = (nk+1)/(n+v+1) # please note the 1 is added in denomenator to cater for the missing values!\n",
    "    return probab"
   ]
  },
  {
   "cell_type": "markdown",
   "metadata": {},
   "source": [
    "# Now bringing the test files information and creating the data"
   ]
  },
  {
   "cell_type": "code",
   "execution_count": 9,
   "metadata": {},
   "outputs": [],
   "source": [
    "def get_test_files_names():\n",
    "    fake_test_files = os.listdir(\"data/Test/Fake\")\n",
    "    real_test_files = os.listdir(\"data/Test/Real\")\n",
    "    fake_test_files = [\"data/Test/Fake/\"+i for i in fake_test_files]\n",
    "    real_test_files = [\"data/Test/Real/\"+i for i in real_test_files]\n",
    "    all_test_files = [fake_test_files,real_test_files]\n",
    "    all_test_files = [x for y in all_test_files for x in y]\n",
    "    return all_test_files"
   ]
  },
  {
   "cell_type": "markdown",
   "metadata": {},
   "source": [
    "# Running it altogether"
   ]
  },
  {
   "cell_type": "code",
   "execution_count": 10,
   "metadata": {},
   "outputs": [],
   "source": [
    "def run_all(includeStopWords=1,isBoolean=0):\n",
    "    \n",
    "    # First get all information from previously created functions. \n",
    "    real_words, words_freq_real = get_data(includeStopWords=includeStopWords,isBoolean=isBoolean,data_type=\"Real\")\n",
    "    fake_words, words_freq_fake  = get_data(includeStopWords=includeStopWords,isBoolean=isBoolean,data_type=\"Fake\")\n",
    "    all_vocab = get_vocabulary(real_words,fake_words)\n",
    "    # Get Likelihood\n",
    "    real_probab = cond_probab(real_words,words_freq_real,all_vocab)\n",
    "    fake_probab = cond_probab(fake_words,words_freq_fake,all_vocab)\n",
    "    \n",
    "    # Get Priors\n",
    "    P_r,P_f = get_probabilities_class()\n",
    "    all_test_files = get_test_files_names()\n",
    "    \n",
    "    #Creating a dataset for test in (data,label) format.\n",
    "    test_dataset = []\n",
    "    for i in all_test_files:\n",
    "        test_dataset.append((i,i.split(\"/\")[2]))\n",
    "\n",
    "    classes = (\"Real\",\"Fake\")\n",
    "    total_count = []\n",
    "    y_true=[]\n",
    "    y_pred = []\n",
    "    \n",
    "    #Now running for each entry in dataset.\n",
    "    \n",
    "    for j in test_dataset:\n",
    "        probability_fake = 0\n",
    "        probability_real = 0\n",
    "        data = []\n",
    "        with open(j[0],encoding=\"utf-8\") as f:\n",
    "            reader = csv.reader(f)\n",
    "            data = list(reader)   \n",
    "            data = [x for y in data for x in y]\n",
    "            for k in ignore_characters_list:\n",
    "                for i,ss in enumerate(data):\n",
    "                    if(k in ss):\n",
    "                        data[i] = data[i].replace(k,\" \")\n",
    "            data = [nlp(x) for x in data]\n",
    "            data2 = [str(x).strip() for y in data for x in y]\n",
    "            if(includeStopWords==0):\n",
    "                data2 = [x for x in data2 if x not in stop_words_data]\n",
    "            if(isBoolean):\n",
    "                data2 = list(set(data2))\n",
    "        \n",
    "        data = data2\n",
    "        \n",
    "        # ---- Data import and tokenization complete -------\n",
    "        \n",
    "        probability_real = math.log(P_r)\n",
    "        probability_fake = math.log(P_f )\n",
    "        \n",
    "        #-----Priors are calculated first\n",
    "        \n",
    "        for i in data:\n",
    "            try:\n",
    "                if((real_probab[str(i)]==0)):\n",
    "                    probability_real = probability_real+math.log(1/(len(real_words)+len(all_vocab)+1))\n",
    "                    # If the string is not available in the vocabulary, \n",
    "                    #a default probability is calculated using L-1 smoothing and keeping n_k = 0\n",
    "                    continue\n",
    "                else:\n",
    "                    probability_real = probability_real+ math.log(real_probab[str(i)])\n",
    "            except:\n",
    "                continue\n",
    "\n",
    "        for i in data:\n",
    "            try:\n",
    "                if((fake_probab[str(i)]==0)):\n",
    "                    probability_fake = probability_fake+math.log(1/(len(fake_words)+len(all_vocab)+1))\n",
    "                    # If the string is not available in the vocabulary, \n",
    "                    #a default probability is calculated using L-1 smoothing and keeping n_k = 0\n",
    "                    continue\n",
    "                else:\n",
    "                    probability_fake = probability_fake+ math.log(fake_probab[str(i)])\n",
    "            except:\n",
    "                continue\n",
    "\n",
    "\n",
    "        aaa = np.array([probability_real,probability_fake])\n",
    "        result = classes[aaa.argmax()]\n",
    "        #print(j)\n",
    "        y_true.append(j[1])\n",
    "        y_pred.append(result)\n",
    "        if(result==j[1]):\n",
    "            total_count.append(1)\n",
    "        else:\n",
    "            total_count.append(0)\n",
    "\n",
    "    return y_true,y_pred,round(sum(total_count)/len(total_count),5)*100"
   ]
  },
  {
   "cell_type": "markdown",
   "metadata": {},
   "source": [
    "# Creating Evaluation Metrics"
   ]
  },
  {
   "cell_type": "code",
   "execution_count": 11,
   "metadata": {},
   "outputs": [],
   "source": [
    "def confusion_matrixx(true, pred):\n",
    "\n",
    "    Z = len(np.unique(true))\n",
    "    unique_values = np.array([\"Real\",\"Fake\"])\n",
    "    \n",
    "    matrix = np.zeros((Z, Z))\n",
    "    \n",
    "\n",
    "    for i in range(len(true)):\n",
    "        a = np.where(unique_values==true[i])[0][0]\n",
    "        b = np.where(unique_values==pred[i])[0][0]\n",
    "        matrix[a][b] += 1\n",
    "\n",
    "    return matrix\n",
    "\n",
    "def precision_recall_f1(result):\n",
    "    '''Expects Results in \n",
    "    \n",
    "    [[TP FP]\n",
    "    [FN TN]]\n",
    "    \n",
    "    Format\n",
    "    \n",
    "    '''\n",
    "    \n",
    "    precision = result[0][0]/((result[0][0]+result[0][1]))\n",
    "    recall = result[0][0]/((result[0][0]+result[1][0]))\n",
    "    f1 = 2*precision*recall/(precision+recall)\n",
    "    return precision,recall,f1"
   ]
  },
  {
   "cell_type": "markdown",
   "metadata": {},
   "source": [
    "# Now running all and doing analysis"
   ]
  },
  {
   "cell_type": "markdown",
   "metadata": {},
   "source": [
    "# First Analysis is including the stop words and Multinomial"
   ]
  },
  {
   "cell_type": "code",
   "execution_count": 12,
   "metadata": {},
   "outputs": [
    {
     "name": "stdout",
     "output_type": "stream",
     "text": [
      "Accuracy: 69.084%\n",
      "Precision:  0.74\n",
      "Recall:  0.72549\n",
      "F1-Score:  0.73267\n"
     ]
    },
    {
     "data": {
      "image/png": "[encoded data removed]",
      "text/plain": [
       "<Figure size 432x288 with 2 Axes>"
      ]
     },
     "metadata": {
      "needs_background": "light"
     },
     "output_type": "display_data"
    }
   ],
   "source": [
    "y_true,y_pred,accuracy = run_all(includeStopWords=1,isBoolean=0)\n",
    "confusion_matrix = confusion_matrixx(y_true,y_pred)\n",
    "precision,recall,f1 = precision_recall_f1(confusion_matrix)\n",
    "print(\"Accuracy: \",accuracy,\"%\",sep=\"\")\n",
    "print(\"Precision: \",round(precision,5))\n",
    "print(\"Recall: \",round(recall,5))\n",
    "print(\"F1-Score: \",round(f1,5))\n",
    "sns.heatmap(confusion_matrix,annot=True, fmt='g',xticklabels=[\"Real\",\"Fake\"],yticklabels=[\"Real\",\"Fake\"])\n",
    "plt.xlabel(\"Predicted Labels\")\n",
    "plt.ylabel(\"True Label\")\n",
    "plt.title(\"Confusion Matrix \\n(Stop Words Included | Multinomial)\")\n",
    "plt.show()"
   ]
  },
  {
   "cell_type": "markdown",
   "metadata": {},
   "source": [
    "# Second Analysis is excluding the stop words and Multinomial"
   ]
  },
  {
   "cell_type": "code",
   "execution_count": 13,
   "metadata": {},
   "outputs": [
    {
     "name": "stdout",
     "output_type": "stream",
     "text": [
      "Accuracy: 69.84700000000001%\n",
      "Precision:  0.72667\n",
      "Recall:  0.7415\n",
      "F1-Score:  0.73401\n"
     ]
    },
    {
     "data": {
      "image/png": "[encoded data removed]",
      "text/plain": [
       "<Figure size 432x288 with 2 Axes>"
      ]
     },
     "metadata": {
      "needs_background": "light"
     },
     "output_type": "display_data"
    }
   ],
   "source": [
    "y_true,y_pred,accuracy = run_all(includeStopWords=0,isBoolean=0)\n",
    "confusion_matrix = confusion_matrixx(y_true,y_pred)\n",
    "precision,recall,f1 = precision_recall_f1(confusion_matrix)\n",
    "print(\"Accuracy: \",accuracy,\"%\",sep=\"\")\n",
    "print(\"Precision: \",round(precision,5))\n",
    "print(\"Recall: \",round(recall,5))\n",
    "print(\"F1-Score: \",round(f1,5))\n",
    "sns.heatmap(confusion_matrix,annot=True, fmt='g',xticklabels=[\"Real\",\"Fake\"],yticklabels=[\"Real\",\"Fake\"])\n",
    "plt.xlabel(\"Predicted Labels\")\n",
    "plt.ylabel(\"True Label\")\n",
    "plt.title(\"Confusion Matrix \\n(Stop Words Excluded | Multinomial)\")\n",
    "plt.show()"
   ]
  },
  {
   "cell_type": "markdown",
   "metadata": {},
   "source": [
    "# Third Analysis is including stop words but Boolean"
   ]
  },
  {
   "cell_type": "code",
   "execution_count": 14,
   "metadata": {
    "scrolled": false
   },
   "outputs": [
    {
     "name": "stdout",
     "output_type": "stream",
     "text": [
      "Accuracy: 77.09899999999999%\n",
      "Precision:  0.85333\n",
      "Recall:  0.77108\n",
      "F1-Score:  0.81013\n"
     ]
    },
    {
     "data": {
      "image/png": "[encoded data removed]",
      "text/plain": [
       "<Figure size 432x288 with 2 Axes>"
      ]
     },
     "metadata": {
      "needs_background": "light"
     },
     "output_type": "display_data"
    }
   ],
   "source": [
    "y_true,y_pred,accuracy = run_all(includeStopWords=1,isBoolean=1)\n",
    "confusion_matrix = confusion_matrixx(y_true,y_pred)\n",
    "precision,recall,f1 = precision_recall_f1(confusion_matrix)\n",
    "print(\"Accuracy: \",accuracy,\"%\",sep=\"\")\n",
    "print(\"Precision: \",round(precision,5))\n",
    "print(\"Recall: \",round(recall,5))\n",
    "print(\"F1-Score: \",round(f1,5))\n",
    "sns.heatmap(confusion_matrix,annot=True, fmt='g',xticklabels=[\"Real\",\"Fake\"],yticklabels=[\"Real\",\"Fake\"])\n",
    "plt.xlabel(\"Predicted Labels\")\n",
    "plt.ylabel(\"True Label\")\n",
    "plt.title(\"Confusion Matrix \\n(Stop Words Included | Boolean)\")\n",
    "plt.show()"
   ]
  },
  {
   "cell_type": "markdown",
   "metadata": {},
   "source": [
    "# Fourth Analysis is excluding stop words but Boolean "
   ]
  },
  {
   "cell_type": "code",
   "execution_count": 15,
   "metadata": {
    "scrolled": false
   },
   "outputs": [
    {
     "name": "stdout",
     "output_type": "stream",
     "text": [
      "Accuracy: 76.336%\n",
      "Precision:  0.85333\n",
      "Recall:  0.7619\n",
      "F1-Score:  0.80503\n"
     ]
    },
    {
     "data": {
      "image/png": "[encoded data removed]",
      "text/plain": [
       "<Figure size 432x288 with 2 Axes>"
      ]
     },
     "metadata": {
      "needs_background": "light"
     },
     "output_type": "display_data"
    }
   ],
   "source": [
    "y_true,y_pred,accuracy = run_all(includeStopWords=0,isBoolean=1)\n",
    "confusion_matrix = confusion_matrixx(y_true,y_pred)\n",
    "precision,recall,f1 = precision_recall_f1(confusion_matrix)\n",
    "print(\"Accuracy: \",accuracy,\"%\",sep=\"\")\n",
    "print(\"Precision: \",round(precision,5))\n",
    "print(\"Recall: \",round(recall,5))\n",
    "print(\"F1-Score: \",round(f1,5))\n",
    "sns.heatmap(confusion_matrix,annot=True, fmt='g',xticklabels=[\"Real\",\"Fake\"],yticklabels=[\"Real\",\"Fake\"])\n",
    "plt.xlabel(\"Predicted Labels\")\n",
    "plt.ylabel(\"True Label\")\n",
    "plt.title(\"Confusion Matrix \\n(Stop Words Included | Boolean)\")\n",
    "plt.show()"
   ]
  },
  {
   "cell_type": "markdown",
   "metadata": {},
   "source": [
    "---\n",
    "\n",
    "# Report"
   ]
  },
  {
   "cell_type": "markdown",
   "metadata": {},
   "source": [
    "## Things covered:\n",
    "\n",
    "* Created an integrated implementation of Multinomial and Boolean Naive Bayes that can be interchanged using parameters\n",
    "* Following evaluation parameters were used:\n",
    "        Accuracy\n",
    "        Precision\n",
    "        Recall\n",
    "        F-1 Score\n",
    "        \n",
    "* Experimentation was done with and without stop words\n",
    "\n",
    "\n",
    "## Assumptions:\n",
    "* The Naive Bayes algorithm takes into account the Bag-of-words approach and assumes each probability is independent. Thus  \n",
    "\n",
    "$ P(a,b|e) = P(a|e).P(b|e) $\n",
    "\n",
    "* In case the document frequency becomes equal in both classes i.e. Real and Fake, the benefit of the doubt is given to the news and is considered Real.\n",
    "\n",
    "\n",
    "## Results:\n",
    "\n",
    "### Scenarios Tested:\n",
    "\n",
    "Four different scenarios were tested. Please find below the results \n",
    "\n",
    "|Scenario No| Multinomial/Binomial | StopWords|\n",
    "|-----------|-----------------------|--------------------|\n",
    "|1|Multinomial|Included|\n",
    "    |2|Multinomial|Excluded|\n",
    "    |3|Binomial|Included|\n",
    "    |4|Binomial|Excluded|\n",
    "    \n",
    "### Evaluation Metrics:\n",
    "* Accuracy:\n",
    "    * $\\frac{\\sum Correct}{\\sum Total} \\times 100$\n",
    "    *  Weak metric as it provides very less information about the model efficiency\n",
    "    \n",
    "* Precision:\n",
    "    * $\\frac{TP}{TP+FP}$\n",
    "    * Checks what portion of positive identifications were correct? \n",
    "    * Doesn't check for the negatives\n",
    "    \n",
    "* Recall:\n",
    "    * $\\frac{TP}{TP+FN}$\n",
    "    * Checks what proportion of positive identifications were identified correctly? \n",
    "    \n",
    "* F1-Score:\n",
    "    * A more reliable measure that takes into account Precision and Recall and gives out a score\n",
    "    * $2 \\times \\frac{Precision \\times Recall}{Precision+Recall}$\n",
    "    \n",
    "    \n",
    "### Evaluation Summary:\n",
    "\n",
    "| Scenario | Type        | Stop Words | Accuracy | Precision | Recall | F-1 Score |\n",
    "|----------|-------------|------------|----------|-----------|--------|-----------|\n",
    "| 1        | Multinomial | Included   | 69%      | 0.74      | 0.725  | 0.73      |\n",
    "| 2        | Multinomial | Excluded   | 69.84%   | 0.72      | 0.74   | 0.73      |\n",
    "| 3        | Binomial    | Included   | 77%      | 0.85      | 0.771  | 0.8101    |\n",
    "| 4        | Binomial    | Excluded   | 76.33%   | 0.853     | 0.762  | 0.805     |\n",
    "\n",
    "\n",
    "### Observations and Conclusion:\n",
    "* Using Binomial definitely increased the Accuracy, precision, recall and F-1 Scores\n",
    "* Excluding Stop Words did good effect in case of multinomial but for binomial, results are almost the same\n",
    "* It is observed that True Positives for scenario 3 and 4 are almost same but False Negatives decreased in case 4 which means excluding stop words increased confusion.\n",
    "* This technique heavily relies on the word tokenization and using an even stronger tokenizer in urdu words, we may further improve our performance"
   ]
  },
  {
   "cell_type": "code",
   "execution_count": null,
   "metadata": {},
   "outputs": [],
   "source": []
  }
 ],
 "metadata": {
  "kernelspec": {
   "display_name": "Python 3",
   "language": "python",
   "name": "python3"
  },
  "language_info": {
   "codemirror_mode": {
    "name": "ipython",
    "version": 3
   },
   "file_extension": ".py",
   "mimetype": "text/x-python",
   "name": "python",
   "nbconvert_exporter": "python",
   "pygments_lexer": "ipython3",
   "version": "3.8.3"
  }
 },
 "nbformat": 4,
 "nbformat_minor": 4
}
